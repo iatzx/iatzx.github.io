{
 "cells": [
  {
   "cell_type": "code",
   "execution_count": 12,
   "id": "c5a6b483",
   "metadata": {
    "scrolled": true
   },
   "outputs": [
    {
     "ename": "ValueError",
     "evalue": "Can only compare identically-labeled Series objects",
     "output_type": "error",
     "traceback": [
      "\u001b[0;31m---------------------------------------------------------------------------\u001b[0m",
      "\u001b[0;31mValueError\u001b[0m                                Traceback (most recent call last)",
      "\u001b[0;32m/var/folders/fl/351k8xyx7j5g74v86qgjbswh0000gp/T/ipykernel_14364/3207325625.py\u001b[0m in \u001b[0;36m<module>\u001b[0;34m\u001b[0m\n\u001b[1;32m     18\u001b[0m \u001b[0;31m# date to run analysis on, few dates per month only\u001b[0m\u001b[0;34m\u001b[0m\u001b[0;34m\u001b[0m\u001b[0;34m\u001b[0m\u001b[0m\n\u001b[1;32m     19\u001b[0m \u001b[0manalysis_date\u001b[0m \u001b[0;34m=\u001b[0m \u001b[0mvacs\u001b[0m\u001b[0;34m.\u001b[0m\u001b[0mdate\u001b[0m\u001b[0;34m.\u001b[0m\u001b[0msort_values\u001b[0m\u001b[0;34m(\u001b[0m\u001b[0;34m)\u001b[0m\u001b[0;34m[\u001b[0m\u001b[0;34m:\u001b[0m\u001b[0;34m-\u001b[0m\u001b[0;36m1\u001b[0m\u001b[0;34m]\u001b[0m\u001b[0;34m\u001b[0m\u001b[0;34m\u001b[0m\u001b[0m\n\u001b[0;32m---> 20\u001b[0;31m \u001b[0mvacs\u001b[0m \u001b[0;34m=\u001b[0m \u001b[0mvacs\u001b[0m\u001b[0;34m[\u001b[0m\u001b[0mvacs\u001b[0m\u001b[0;34m.\u001b[0m\u001b[0mdate\u001b[0m\u001b[0;34m==\u001b[0m\u001b[0manalysis_date\u001b[0m\u001b[0;34m]\u001b[0m\u001b[0;34m\u001b[0m\u001b[0;34m\u001b[0m\u001b[0m\n\u001b[0m\u001b[1;32m     21\u001b[0m \u001b[0;34m\u001b[0m\u001b[0m\n\u001b[1;32m     22\u001b[0m \u001b[0mvacs\u001b[0m\u001b[0;34m.\u001b[0m\u001b[0mdtypes\u001b[0m\u001b[0;34m\u001b[0m\u001b[0;34m\u001b[0m\u001b[0m\n",
      "\u001b[0;32m/usr/local/lib/python3.9/site-packages/pandas/core/ops/common.py\u001b[0m in \u001b[0;36mnew_method\u001b[0;34m(self, other)\u001b[0m\n\u001b[1;32m     67\u001b[0m         \u001b[0mother\u001b[0m \u001b[0;34m=\u001b[0m \u001b[0mitem_from_zerodim\u001b[0m\u001b[0;34m(\u001b[0m\u001b[0mother\u001b[0m\u001b[0;34m)\u001b[0m\u001b[0;34m\u001b[0m\u001b[0;34m\u001b[0m\u001b[0m\n\u001b[1;32m     68\u001b[0m \u001b[0;34m\u001b[0m\u001b[0m\n\u001b[0;32m---> 69\u001b[0;31m         \u001b[0;32mreturn\u001b[0m \u001b[0mmethod\u001b[0m\u001b[0;34m(\u001b[0m\u001b[0mself\u001b[0m\u001b[0;34m,\u001b[0m \u001b[0mother\u001b[0m\u001b[0;34m)\u001b[0m\u001b[0;34m\u001b[0m\u001b[0;34m\u001b[0m\u001b[0m\n\u001b[0m\u001b[1;32m     70\u001b[0m \u001b[0;34m\u001b[0m\u001b[0m\n\u001b[1;32m     71\u001b[0m     \u001b[0;32mreturn\u001b[0m \u001b[0mnew_method\u001b[0m\u001b[0;34m\u001b[0m\u001b[0;34m\u001b[0m\u001b[0m\n",
      "\u001b[0;32m/usr/local/lib/python3.9/site-packages/pandas/core/arraylike.py\u001b[0m in \u001b[0;36m__eq__\u001b[0;34m(self, other)\u001b[0m\n\u001b[1;32m     30\u001b[0m     \u001b[0;34m@\u001b[0m\u001b[0munpack_zerodim_and_defer\u001b[0m\u001b[0;34m(\u001b[0m\u001b[0;34m\"__eq__\"\u001b[0m\u001b[0;34m)\u001b[0m\u001b[0;34m\u001b[0m\u001b[0;34m\u001b[0m\u001b[0m\n\u001b[1;32m     31\u001b[0m     \u001b[0;32mdef\u001b[0m \u001b[0m__eq__\u001b[0m\u001b[0;34m(\u001b[0m\u001b[0mself\u001b[0m\u001b[0;34m,\u001b[0m \u001b[0mother\u001b[0m\u001b[0;34m)\u001b[0m\u001b[0;34m:\u001b[0m\u001b[0;34m\u001b[0m\u001b[0;34m\u001b[0m\u001b[0m\n\u001b[0;32m---> 32\u001b[0;31m         \u001b[0;32mreturn\u001b[0m \u001b[0mself\u001b[0m\u001b[0;34m.\u001b[0m\u001b[0m_cmp_method\u001b[0m\u001b[0;34m(\u001b[0m\u001b[0mother\u001b[0m\u001b[0;34m,\u001b[0m \u001b[0moperator\u001b[0m\u001b[0;34m.\u001b[0m\u001b[0meq\u001b[0m\u001b[0;34m)\u001b[0m\u001b[0;34m\u001b[0m\u001b[0;34m\u001b[0m\u001b[0m\n\u001b[0m\u001b[1;32m     33\u001b[0m \u001b[0;34m\u001b[0m\u001b[0m\n\u001b[1;32m     34\u001b[0m     \u001b[0;34m@\u001b[0m\u001b[0munpack_zerodim_and_defer\u001b[0m\u001b[0;34m(\u001b[0m\u001b[0;34m\"__ne__\"\u001b[0m\u001b[0;34m)\u001b[0m\u001b[0;34m\u001b[0m\u001b[0;34m\u001b[0m\u001b[0m\n",
      "\u001b[0;32m/usr/local/lib/python3.9/site-packages/pandas/core/series.py\u001b[0m in \u001b[0;36m_cmp_method\u001b[0;34m(self, other, op)\u001b[0m\n\u001b[1;32m   5493\u001b[0m \u001b[0;34m\u001b[0m\u001b[0m\n\u001b[1;32m   5494\u001b[0m         \u001b[0;32mif\u001b[0m \u001b[0misinstance\u001b[0m\u001b[0;34m(\u001b[0m\u001b[0mother\u001b[0m\u001b[0;34m,\u001b[0m \u001b[0mSeries\u001b[0m\u001b[0;34m)\u001b[0m \u001b[0;32mand\u001b[0m \u001b[0;32mnot\u001b[0m \u001b[0mself\u001b[0m\u001b[0;34m.\u001b[0m\u001b[0m_indexed_same\u001b[0m\u001b[0;34m(\u001b[0m\u001b[0mother\u001b[0m\u001b[0;34m)\u001b[0m\u001b[0;34m:\u001b[0m\u001b[0;34m\u001b[0m\u001b[0;34m\u001b[0m\u001b[0m\n\u001b[0;32m-> 5495\u001b[0;31m             \u001b[0;32mraise\u001b[0m \u001b[0mValueError\u001b[0m\u001b[0;34m(\u001b[0m\u001b[0;34m\"Can only compare identically-labeled Series objects\"\u001b[0m\u001b[0;34m)\u001b[0m\u001b[0;34m\u001b[0m\u001b[0;34m\u001b[0m\u001b[0m\n\u001b[0m\u001b[1;32m   5496\u001b[0m \u001b[0;34m\u001b[0m\u001b[0m\n\u001b[1;32m   5497\u001b[0m         \u001b[0mlvalues\u001b[0m \u001b[0;34m=\u001b[0m \u001b[0mself\u001b[0m\u001b[0;34m.\u001b[0m\u001b[0m_values\u001b[0m\u001b[0;34m\u001b[0m\u001b[0;34m\u001b[0m\u001b[0m\n",
      "\u001b[0;31mValueError\u001b[0m: Can only compare identically-labeled Series objects"
     ]
    }
   ],
   "source": [
    "import pandas as pd\n",
    "import seaborn as sns\n",
    "sns.set_theme()\n",
    "\n",
    "import matplotlib.pyplot as plt\n",
    "plt.rcParams['figure.figsize'] = (13,9)\n",
    "\n",
    "vacs = pd.read_csv(\"./Downloads/covid19-france-stock-vaccin-departement.csv\", \n",
    "                   names = ['dept_code','dept_name','type','nb_dose','z1','date','z2','z3','iso3166-3','geo_point'], \n",
    "                   skiprows=1,\n",
    "                   sep=';')\n",
    "vacs = vacs.drop(labels=['z1','z2','z3'], axis=1)\n",
    "\n",
    "# type conversions\n",
    "vacs.date = pd.to_datetime(vacs.date, format=\"%Y-%m-%d\")\n",
    "vacs.type = pd.Categorical(vacs.type)\n",
    "\n",
    "# date to run analysis on, few dates per month only\n",
    "analysis_date = '2021-07-29'\n",
    "vacs = vacs[vacs.date==analysis_date]\n",
    "\n",
    "vacs.dtypes\n",
    "vacs.tail()"
   ]
  },
  {
   "cell_type": "code",
   "execution_count": null,
   "id": "61e2e373",
   "metadata": {},
   "outputs": [],
   "source": [
    "dose_per_dept = vacs.groupby(['dept_code', 'dept_name'], as_index=False)['nb_dose'].sum()\n",
    "dose_per_dept.nlargest(9, 'nb_dose')"
   ]
  },
  {
   "cell_type": "code",
   "execution_count": null,
   "id": "5f9916ac",
   "metadata": {},
   "outputs": [],
   "source": [
    "import geopandas\n",
    "base = geopandas.read_file('./Downloads/departements-20180101-shp/departements-20180101.shp')"
   ]
  },
  {
   "cell_type": "code",
   "execution_count": null,
   "id": "0a315b6a",
   "metadata": {},
   "outputs": [],
   "source": [
    "# filter out three-letter dpt codes (outre-mer?) \n",
    "base = base[base.code_insee.str.len() <= 2]"
   ]
  },
  {
   "cell_type": "code",
   "execution_count": null,
   "id": "a130c413",
   "metadata": {},
   "outputs": [],
   "source": [
    "mg = pd.merge(base, dose_per_dept, left_on='code_insee', right_on='dept_code')\n",
    "ax = mg.plot(column='nb_dose', cmap='YlGn', legend=True)\n",
    "ax.set_title('Vaccin stock per dpt - ' + analysis_date)"
   ]
  },
  {
   "cell_type": "code",
   "execution_count": null,
   "id": "7a9e86c8",
   "metadata": {},
   "outputs": [],
   "source": [
    "# df top9 departments with most vaccines\n",
    "top9 = vacs[vacs.dept_code.isin(dose_per_dept.nlargest(9, 'nb_dose').dept_code)]"
   ]
  },
  {
   "cell_type": "code",
   "execution_count": null,
   "id": "7bbd0d87",
   "metadata": {},
   "outputs": [],
   "source": [
    "# Initialize grid and map barplots\n",
    "grid = sns.FacetGrid(top9, col='dept_name', hue='type', palette='pastel',\n",
    "                     col_order = dose_per_dept.nlargest(9, 'nb_dose').dept_name,\n",
    "                     col_wrap=3, height=4)\n",
    "vac_list = ['Pfizer','AstraZeneca','Moderna','Janssen']\n",
    "grid.map(sns.barplot,'type','nb_dose', order=vac_list)\n",
    "grid.set_titles(col_template=\"{col_name}\", row_template=\"{row_name}\")\n",
    "grid.add_legend(label_order=vac_list)"
   ]
  },
  {
   "cell_type": "code",
   "execution_count": null,
   "id": "073a8040",
   "metadata": {},
   "outputs": [],
   "source": []
  },
  {
   "cell_type": "code",
   "execution_count": null,
   "id": "bd2a9b8e",
   "metadata": {},
   "outputs": [],
   "source": []
  }
 ],
 "metadata": {
  "kernelspec": {
   "display_name": "Python 3 (ipykernel)",
   "language": "python",
   "name": "python3"
  },
  "language_info": {
   "codemirror_mode": {
    "name": "ipython",
    "version": 3
   },
   "file_extension": ".py",
   "mimetype": "text/x-python",
   "name": "python",
   "nbconvert_exporter": "python",
   "pygments_lexer": "ipython3",
   "version": "3.9.6"
  }
 },
 "nbformat": 4,
 "nbformat_minor": 5
}
